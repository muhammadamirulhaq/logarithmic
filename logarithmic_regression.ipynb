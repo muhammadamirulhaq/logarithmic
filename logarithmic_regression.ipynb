{
 "cells": [
  {
   "cell_type": "markdown",
   "id": "6b4a4981-e0d6-4405-8186-36eb5388be4b",
   "metadata": {},
   "source": [
    "## Logarithmic Regression"
   ]
  },
  {
   "cell_type": "markdown",
   "id": "a6adc3e9-5a09-4dc9-a687-7e3b7dff3ce9",
   "metadata": {
    "tags": []
   },
   "source": [
    "---\n",
    "##### Linear model"
   ]
  },
  {
   "cell_type": "code",
   "execution_count": 235,
   "id": "1f0165cc-8960-4dbe-a3f4-ccf747939163",
   "metadata": {},
   "outputs": [],
   "source": [
    "import Data.List"
   ]
  },
  {
   "cell_type": "code",
   "execution_count": 236,
   "id": "548c670b-2882-4b26-ab08-4501b0b46df2",
   "metadata": {},
   "outputs": [],
   "source": [
    "data Model = Model\n",
    "  { b0 :: Double\n",
    "  , b1 :: Double\n",
    "  } deriving Show\n",
    "  \n",
    "linear :: [Double] -> [Double] -> Model\n",
    "linear x y = Model b0 b1\n",
    "  where\n",
    "    b0 = ( _Ey - b1*_Ex ) / n\n",
    "    b1 = ( n*_Exy - _Ex*_Ey ) / ( n*_Ex2 - _Ex^2 )\n",
    "    \n",
    "    n = fromIntegral $ length x :: Double\n",
    "    _Exy = sum $ zipWith (*) x y\n",
    "    _Ex = sum x\n",
    "    _Ey = sum y\n",
    "    _Ex2 = sum $ zipWith (*) x x"
   ]
  },
  {
   "cell_type": "markdown",
   "id": "e7ecc64e-7d25-4a9c-bbf7-d64da30aa405",
   "metadata": {},
   "source": [
    "---\n",
    "##### Csv library"
   ]
  },
  {
   "cell_type": "code",
   "execution_count": null,
   "id": "b644a5b2-e03e-4a0a-8a2d-73ca5d51b7f2",
   "metadata": {},
   "outputs": [
    {
     "data": {
      "text/plain": [
       "Config file path source is default config file.\n",
       "Config file not found: /home/jovyan/.cabal/config\n",
       "Writing default configuration to /home/jovyan/.cabal/config\n",
       "Downloading the latest package list from hackage.haskell.org\n",
       "Package list of hackage.haskell.org has been updated.\n",
       "The index-state is set to 2022-12-27T23:47:44Z.\n",
       "Resolving dependencies...\n",
       "Build profile: -w ghc-8.10.7 -O1\n",
       "In order, the following will be built (use -v for more details):\n",
       " - csv-0.1.2 (lib:csv) (requires download & build)\n",
       "Downloading  csv-0.1.2\n",
       "Downloaded   csv-0.1.2\n",
       "Starting     csv-0.1.2 (all, legacy fallback)\n",
       "Building     csv-0.1.2 (all, legacy fallback)\n",
       "Installing   csv-0.1.2 (all, legacy fallback)\n",
       "Completed    csv-0.1.2 (all, legacy fallback)"
      ]
     },
     "metadata": {},
     "output_type": "display_data"
    }
   ],
   "source": [
    ":!cabal update && cabal install --lib csv"
   ]
  },
  {
   "cell_type": "markdown",
   "id": "74021390-8a56-40fe-92e5-8e7326ac6167",
   "metadata": {},
   "source": [
    "---\n",
    "##### Read x and y"
   ]
  },
  {
   "cell_type": "code",
   "execution_count": 237,
   "id": "e078cdcb-5f16-4c4e-b57d-89db56a411aa",
   "metadata": {},
   "outputs": [],
   "source": [
    "import Text.CSV"
   ]
  },
  {
   "cell_type": "code",
   "execution_count": 238,
   "id": "e723ecb1-5fbd-48f3-af9a-0b2e48733df2",
   "metadata": {},
   "outputs": [],
   "source": [
    "Right df <- parseCSVFromFile \"EconomiesOfScale.csv\""
   ]
  },
  {
   "cell_type": "code",
   "execution_count": 240,
   "id": "80aa8d0b-4fd7-43d7-8a14-7348fe5a25e5",
   "metadata": {},
   "outputs": [
    {
     "data": {
      "text/plain": [
       "(1000,1000)"
      ]
     },
     "metadata": {},
     "output_type": "display_data"
    }
   ],
   "source": [
    "x = init $ map read (drop 1 $ head $ filter (\\x -> head x == \"Number of Units\") $ transpose df) :: [Double]\n",
    "y = map read (drop 1 $ head $ filter (\\y -> head y == \"Manufacturing Cost\") $ transpose df) :: [Double]\n",
    "\n",
    "print (length x, length y)"
   ]
  },
  {
   "cell_type": "markdown",
   "id": "d43a6620-9875-49f1-8ed4-e57f100ee54d",
   "metadata": {},
   "source": [
    "---\n",
    "##### Fit Logarithmic Regression"
   ]
  },
  {
   "cell_type": "code",
   "execution_count": 241,
   "id": "063625d3-abb7-4d34-866c-4192a372d000",
   "metadata": {},
   "outputs": [
    {
     "data": {
      "text/plain": [
       "Model {b0 = 77.87110516608855, b1 = -26.122787920708554}"
      ]
     },
     "metadata": {},
     "output_type": "display_data"
    }
   ],
   "source": [
    "model = linear ( map log x ) y\n",
    "model"
   ]
  },
  {
   "cell_type": "code",
   "execution_count": 242,
   "id": "c1052623-d88e-4bf0-8d2c-31615469a6db",
   "metadata": {},
   "outputs": [],
   "source": [
    "predict x = b0 model + (b1 model * log x)"
   ]
  },
  {
   "cell_type": "markdown",
   "id": "9a80134d-9a2f-4cdd-882f-51b7f324f30e",
   "metadata": {},
   "source": [
    "---\n",
    "##### Predict and actual value"
   ]
  },
  {
   "cell_type": "code",
   "execution_count": 243,
   "id": "285563a6-a1a7-445e-bcaa-9a11ead46682",
   "metadata": {},
   "outputs": [
    {
     "data": {
      "text/plain": [
       "(\"Predict\",\"Actual\")"
      ]
     },
     "metadata": {},
     "output_type": "display_data"
    },
    {
     "data": {
      "text/plain": [
       "(77.87110516608855,95.06605578)\n",
       "(73.41505530121873,96.53174997)\n",
       "(73.29408248455584,73.66131056)\n",
       "(73.00469524297493,95.5668425)\n",
       "(71.04209022342832,98.77701266)\n",
       "(70.86844182660386,100.0)\n",
       "(70.23773721878221,94.75975637)\n",
       "(69.47549669085971,67.18538349)\n",
       "(68.71097899821994,72.88604061)\n",
       "(67.73690677928502,61.96769605)\n",
       "(66.57650881198268,69.28409692)\n",
       "(66.01132858375091,64.55249643)\n",
       "(65.26379425686136,77.67937742)\n",
       "(65.07604459057586,58.42664546)\n",
       "(64.74695192821245,51.4409698)\n",
       "(64.07421850979719,60.92903611)\n",
       "(63.944938041752394,81.86775617)\n",
       "(63.41407419714263,60.5725967)\n",
       "(63.10136153204646,74.12260141)\n",
       "(62.999813275944526,71.61417311)"
      ]
     },
     "metadata": {},
     "output_type": "display_data"
    }
   ],
   "source": [
    "print (\"Predict\", \"Actual\")\n",
    "mapM_ print ( take 20 $ zip ( map predict x ) y )"
   ]
  },
  {
   "cell_type": "code",
   "execution_count": 244,
   "id": "be0dae3e-f4a7-4cba-a664-c6d1770638a3",
   "metadata": {},
   "outputs": [],
   "source": [
    "rSquare :: [Double] -> [Double] -> Double\n",
    "rSquare y yhat =\n",
    "  1 - ( ssr / sst )\n",
    "  where\n",
    "    ssr = sum [ ( y - yhat ) **2 | (y, yhat) <- zip y yhat]\n",
    "    sst = sum [ ( y - mean ) **2 | y <- y]\n",
    "    \n",
    "    mean = sum y / fromIntegral (length y)"
   ]
  },
  {
   "cell_type": "code",
   "execution_count": null,
   "id": "09c825bb-a7ed-4153-849b-edb6760febe3",
   "metadata": {},
   "outputs": [
    {
     "data": {
      "text/plain": [
       "0.6722501197259747"
      ]
     },
     "metadata": {},
     "output_type": "display_data"
    }
   ],
   "source": [
    "rSquare y (map predict x)"
   ]
  }
 ],
 "metadata": {
  "kernelspec": {
   "display_name": "Haskell",
   "language": "haskell",
   "name": "haskell"
  },
  "language_info": {
   "codemirror_mode": "ihaskell",
   "file_extension": ".hs",
   "mimetype": "text/x-haskell",
   "name": "haskell",
   "pygments_lexer": "Haskell",
   "version": "8.10.7"
  }
 },
 "nbformat": 4,
 "nbformat_minor": 5
}
